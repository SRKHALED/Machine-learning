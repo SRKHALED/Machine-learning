{
 "cells": [
  {
   "cell_type": "markdown",
   "metadata": {},
   "source": [
    "Name : Sadikur Rahman Khaled\n",
    "ID : 160103020044\n",
    "Section : B\n",
    "Semester : 11th"
   ]
  },
  {
   "cell_type": "code",
   "execution_count": 1,
   "metadata": {},
   "outputs": [],
   "source": [
    "import numpy as np\n",
    "import matplotlib.pyplot as plt\n",
    "YearsExperience=[1.1,1.3,1.5,2,2.2,2.9,3,3.2,3.2,3.7,3.9,4,4,4.1,4.5,\n",
    "                 4.9,5.1,5.3,5.9,6,6.8,7.1,7.9,8.2,8.7,9,9.5,9.6,10.3,10.5]\n",
    "Salary=[39343,46205,37731,43525,39891,56642,60150,54445,64445,57189,63218,55794,56957,57081,61111,\n",
    "        67938,66029,83088,81363,93940,91738,98273,101302,113812,109431,105582,116969,112635,122391,121872]"
   ]
  },
  {
   "cell_type": "code",
   "execution_count": 2,
   "metadata": {},
   "outputs": [
    {
     "data": {
      "image/png": "[encoded data removed]",
      "text/plain": [
       "<Figure size 432x288 with 1 Axes>"
      ]
     },
     "metadata": {
      "needs_background": "light"
     },
     "output_type": "display_data"
    }
   ],
   "source": [
    "plt.scatter(YearsExperience,Salary, color = 'red') \n",
    "plt.title('YearsExperience vs Salary')\n",
    "plt.xlabel('YearsExperience')\n",
    "plt.ylabel('Salary')\n",
    "plt.show()"
   ]
  },
  {
   "cell_type": "code",
   "execution_count": 3,
   "metadata": {},
   "outputs": [],
   "source": [
    "def DM(m,c,x,y):\n",
    "    s=0\n",
    "    for i in range(len(x)):\n",
    "        s+=x[i]*(y[i]-m*x[i]-c)\n",
    "    return -(2/len(x))*s"
   ]
  },
  {
   "cell_type": "code",
   "execution_count": 4,
   "metadata": {},
   "outputs": [],
   "source": [
    "def DC(m,c,x,y):\n",
    "    s=0\n",
    "    for i in range(len(x)):\n",
    "        s+=(y[i]-m*x[i]-c)\n",
    "    return -(2/len(x))*s"
   ]
  },
  {
   "cell_type": "code",
   "execution_count": 5,
   "metadata": {},
   "outputs": [],
   "source": [
    "def error(m,c,x,y):\n",
    "    s=0\n",
    "    for i in range(len(x)):\n",
    "        y1=m*x[i]+c\n",
    "        s+=(y1-y[i])**2\n",
    "    return (1/len(x))*s"
   ]
  },
  {
   "cell_type": "code",
   "execution_count": 6,
   "metadata": {},
   "outputs": [],
   "source": [
    "def GD(YearsExperience,Salary):\n",
    "    E=[]\n",
    "    m=0\n",
    "    c=0\n",
    "    ep=1000\n",
    "    L=0.0001\n",
    "    for i in range(ep):\n",
    "        er=error(m,c,YearsExperience,Salary)\n",
    "        E.append(er)\n",
    "        dm=DM(m,c,YearsExperience,Salary)\n",
    "        dc=DC(m,c,YearsExperience,Salary)\n",
    "        m-=L*dm\n",
    "        c-=L*dc\n",
    "    return m,c,E"
   ]
  },
  {
   "cell_type": "code",
   "execution_count": 7,
   "metadata": {},
   "outputs": [
    {
     "name": "stdout",
     "output_type": "stream",
     "text": [
      "12836.600965885045 2915.204485601402\n"
     ]
    }
   ],
   "source": [
    "m,c,e=GD(YearsExperience,Salary)\n",
    "print(m,c)\n",
    "#print(e)"
   ]
  },
  {
   "cell_type": "code",
   "execution_count": 8,
   "metadata": {},
   "outputs": [
    {
     "name": "stdout",
     "output_type": "stream",
     "text": [
      "[17035.465548074953, 19602.785741251962, 22170.10593442897, 28588.406417371494, 31155.726610548507, 40141.34728666803, 41425.00738325654, 43992.32757643355, 43992.32757643355, 50410.628059376075, 52977.94825255308, 54261.608349141585, 54261.608349141585, 55545.268445730086, 60679.908832084104, 65814.54921843813, 68381.86941161513, 70949.18960479213, 78651.15018432317, 79934.81028091167, 90204.0910536197, 94055.0713433852, 104324.35211609326, 108175.33240585876, 114593.63288880128, 118444.6131785668, 124862.91366150933, 126146.57375809783, 135132.19443421738, 137699.51462739438]\n"
     ]
    }
   ],
   "source": [
    "PS=[]\n",
    "for i in range(len(Salary)):\n",
    "    y=m*YearsExperience[i]+c\n",
    "    PS.append(y)\n",
    "print(PS)"
   ]
  },
  {
   "cell_type": "code",
   "execution_count": 9,
   "metadata": {},
   "outputs": [
    {
     "data": {
      "image/png": "[encoded data removed]",
      "text/plain": [
       "<Figure size 432x288 with 1 Axes>"
      ]
     },
     "metadata": {
      "needs_background": "light"
     },
     "output_type": "display_data"
    }
   ],
   "source": [
    "plt.scatter(YearsExperience,PS, color = 'red')\n",
    "plt.show()"
   ]
  },
  {
   "cell_type": "code",
   "execution_count": 11,
   "metadata": {},
   "outputs": [
    {
     "name": "stdout",
     "output_type": "stream",
     "text": [
      "59396.24873549561\n"
     ]
    }
   ],
   "source": [
    "yp=m*4.4+c\n",
    "print(yp)"
   ]
  },
  {
   "cell_type": "code",
   "execution_count": null,
   "metadata": {},
   "outputs": [],
   "source": []
  }
 ],
 "metadata": {
  "kernelspec": {
   "display_name": "Python 3",
   "language": "python",
   "name": "python3"
  },
  "language_info": {
   "codemirror_mode": {
    "name": "ipython",
    "version": 3
   },
   "file_extension": ".py",
   "mimetype": "text/x-python",
   "name": "python",
   "nbconvert_exporter": "python",
   "pygments_lexer": "ipython3",
   "version": "3.7.1"
  }
 },
 "nbformat": 4,
 "nbformat_minor": 2
}

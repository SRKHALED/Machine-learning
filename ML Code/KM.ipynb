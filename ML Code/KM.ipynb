{
 "cells": [
  {
   "cell_type": "code",
   "execution_count": 12,
   "metadata": {},
   "outputs": [],
   "source": [
    "import numpy as np\n",
    "import matplotlib.pyplot as plt\n",
    "from sklearn import datasets"
   ]
  },
  {
   "cell_type": "code",
   "execution_count": 13,
   "metadata": {},
   "outputs": [
    {
     "name": "stdout",
     "output_type": "stream",
     "text": [
      "[[5.1 3.5 1.4 0.2]\n",
      " [4.9 3.  1.4 0.2]\n",
      " [4.7 3.2 1.3 0.2]\n",
      " [4.6 3.1 1.5 0.2]\n",
      " [5.  3.6 1.4 0.2]]\n"
     ]
    }
   ],
   "source": [
    "iris =  datasets.load_iris() \n",
    "X = iris.data\n",
    "print(X[:5])"
   ]
  },
  {
   "cell_type": "code",
   "execution_count": 14,
   "metadata": {},
   "outputs": [],
   "source": [
    "def centroids (k):\n",
    "    c={}\n",
    "    t=0\n",
    "    while True:\n",
    "        ri=np.random.choice(range(len(X)), k)\n",
    "        #print(ri)\n",
    "        if len(set(ri))==k:\n",
    "            for i in range(k):\n",
    "                c[i]=X[ri[i]]\n",
    "            break\n",
    "\n",
    "    return c"
   ]
  },
  {
   "cell_type": "code",
   "execution_count": 15,
   "metadata": {},
   "outputs": [
    {
     "name": "stdout",
     "output_type": "stream",
     "text": [
      "{0: array([4.4, 2.9, 1.4, 0.2]), 1: array([7.7, 2.8, 6.7, 2. ]), 2: array([6. , 3.4, 4.5, 1.6]), 3: array([5.5, 2.5, 4. , 1.3])}\n"
     ]
    }
   ],
   "source": [
    "k = 4\n",
    "c=centroids(k)\n",
    "print(c)"
   ]
  },
  {
   "cell_type": "code",
   "execution_count": 16,
   "metadata": {},
   "outputs": [],
   "source": [
    "def e_dist(x1, x2):\n",
    "    return np.linalg.norm(x1-x2)"
   ]
  },
  {
   "cell_type": "code",
   "execution_count": 17,
   "metadata": {},
   "outputs": [],
   "source": [
    "def KM(X,k,c):\n",
    "    ep=100\n",
    "    old_c={}\n",
    "    for i in range(ep):\n",
    "        cls={}\n",
    "        for ik,iv in c.items():\n",
    "            cls[ik]=[]\n",
    "\n",
    "        #print('centroids: ',c)\n",
    "        for x in X:\n",
    "            dis=[e_dist(x,v) for k,v in c.items() ]\n",
    "            ct=dis.index( min(dis) )\n",
    "            cls[ct].append(x)\n",
    "\n",
    "        for ik in range(k):\n",
    "            old_c[ik]=c[ik].copy()\n",
    "        nc={}\n",
    "        for ik in range(k):\n",
    "            avg_c=np.array(cls[ik]).mean(axis=0)\n",
    "            nc[ik]=avg_c\n",
    "            c[ik]=avg_c\n",
    "        nupdate=0\n",
    "        for ik in range(k):\n",
    "            if e_dist( c[ik], old_c[ik] ) > 0:\n",
    "                nupdate+=1\n",
    "        if nupdate==0:\n",
    "            break\n",
    "    return c,cls"
   ]
  },
  {
   "cell_type": "code",
   "execution_count": 18,
   "metadata": {},
   "outputs": [
    {
     "name": "stdout",
     "output_type": "stream",
     "text": [
      "sse= 681.3706000000001\n",
      "sse= 152.34795176035803\n",
      "sse= 78.85144142614604\n",
      "sse= 57.38387326549492\n",
      "sse= 46.461172672672696\n",
      "sse= 39.6203750142809\n",
      "sse= 38.207138528138536\n",
      "sse= 46.464798000610514\n",
      "sse= 29.064527629233535\n"
     ]
    }
   ],
   "source": [
    "se=[]\n",
    "ks=[]\n",
    "for i in range(1,10):\n",
    "    c=centroids(i)\n",
    "    c,cls=KM(X,i,c)\n",
    "    sse=0\n",
    "    for cluster,centroid in zip(cls.values() ,c.values()):\n",
    "        for x in cluster:\n",
    "            d=e_dist(x, centroid)\n",
    "            sse+=d*d\n",
    "    print('sse=',sse)\n",
    "    se.append(sse)\n",
    "    ks.append(i)"
   ]
  },
  {
   "cell_type": "code",
   "execution_count": 19,
   "metadata": {},
   "outputs": [
    {
     "data": {
      "image/png": "[encoded data removed]",
      "text/plain": [
       "<Figure size 432x288 with 1 Axes>"
      ]
     },
     "metadata": {
      "needs_background": "light"
     },
     "output_type": "display_data"
    }
   ],
   "source": [
    "plt.plot(ks, se)\n",
    "plt.title('k vs sse')\n",
    "plt.show()"
   ]
  },
  {
   "cell_type": "code",
   "execution_count": 20,
   "metadata": {},
   "outputs": [
    {
     "name": "stdout",
     "output_type": "stream",
     "text": [
      "2\n"
     ]
    }
   ],
   "source": [
    "mx=0\n",
    "for i in range(1,9):\n",
    "    d=se[i-1]-se[i]\n",
    "    if d>mx:\n",
    "        mx=d\n",
    "        best_k=i+1\n",
    "print(best_k)"
   ]
  },
  {
   "cell_type": "code",
   "execution_count": 23,
   "metadata": {},
   "outputs": [
    {
     "name": "stdout",
     "output_type": "stream",
     "text": [
      "{0: array([5.00566038, 3.36981132, 1.56037736, 0.29056604]), 1: array([6.30103093, 2.88659794, 4.95876289, 1.69587629])}\n"
     ]
    }
   ],
   "source": [
    "c=centroids(best_k)\n",
    "fc,cls=KM(X,best_k,c)\n",
    "print(fc)"
   ]
  },
  {
   "cell_type": "code",
   "execution_count": null,
   "metadata": {},
   "outputs": [],
   "source": []
  }
 ],
 "metadata": {
  "kernelspec": {
   "display_name": "Python 3",
   "language": "python",
   "name": "python3"
  },
  "language_info": {
   "codemirror_mode": {
    "name": "ipython",
    "version": 3
   },
   "file_extension": ".py",
   "mimetype": "text/x-python",
   "name": "python",
   "nbconvert_exporter": "python",
   "pygments_lexer": "ipython3",
   "version": "3.7.1"
  }
 },
 "nbformat": 4,
 "nbformat_minor": 2
}

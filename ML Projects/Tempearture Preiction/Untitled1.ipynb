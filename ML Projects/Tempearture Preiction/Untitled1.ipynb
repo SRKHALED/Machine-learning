{
 "cells": [
  {
   "cell_type": "code",
   "execution_count": 1,
   "metadata": {},
   "outputs": [],
   "source": [
    "import numpy as np\n",
    "import pandas as pd\n",
    "import matplotlib.pyplot as plt"
   ]
  },
  {
   "cell_type": "code",
   "execution_count": 2,
   "metadata": {},
   "outputs": [
    {
     "data": {
      "text/html": [
       "<div>\n",
       "<style scoped>\n",
       "    .dataframe tbody tr th:only-of-type {\n",
       "        vertical-align: middle;\n",
       "    }\n",
       "\n",
       "    .dataframe tbody tr th {\n",
       "        vertical-align: top;\n",
       "    }\n",
       "\n",
       "    .dataframe thead th {\n",
       "        text-align: right;\n",
       "    }\n",
       "</style>\n",
       "<table border=\"1\" class=\"dataframe\">\n",
       "  <thead>\n",
       "    <tr style=\"text-align: right;\">\n",
       "      <th></th>\n",
       "      <th>SN</th>\n",
       "      <th>MAX_Teperature</th>\n",
       "      <th>AVT</th>\n",
       "    </tr>\n",
       "  </thead>\n",
       "  <tbody>\n",
       "    <tr>\n",
       "      <th>0</th>\n",
       "      <td>1</td>\n",
       "      <td>25.2</td>\n",
       "      <td>19.6</td>\n",
       "    </tr>\n",
       "    <tr>\n",
       "      <th>1</th>\n",
       "      <td>2</td>\n",
       "      <td>25.8</td>\n",
       "      <td>19.3</td>\n",
       "    </tr>\n",
       "    <tr>\n",
       "      <th>2</th>\n",
       "      <td>3</td>\n",
       "      <td>24.2</td>\n",
       "      <td>17.3</td>\n",
       "    </tr>\n",
       "    <tr>\n",
       "      <th>3</th>\n",
       "      <td>4</td>\n",
       "      <td>24.0</td>\n",
       "      <td>17.1</td>\n",
       "    </tr>\n",
       "    <tr>\n",
       "      <th>4</th>\n",
       "      <td>5</td>\n",
       "      <td>26.2</td>\n",
       "      <td>18.1</td>\n",
       "    </tr>\n",
       "  </tbody>\n",
       "</table>\n",
       "</div>"
      ],
      "text/plain": [
       "   SN  MAX_Teperature   AVT\n",
       "0   1            25.2  19.6\n",
       "1   2            25.8  19.3\n",
       "2   3            24.2  17.3\n",
       "3   4            24.0  17.1\n",
       "4   5            26.2  18.1"
      ]
     },
     "execution_count": 2,
     "metadata": {},
     "output_type": "execute_result"
    }
   ],
   "source": [
    "data=pd.read_csv('data1.csv', delimiter=',',names = ['SN','MAX_Teperature','AVT'])\n",
    "data.head()\n",
    "#print(len(data))"
   ]
  },
  {
   "cell_type": "code",
   "execution_count": 3,
   "metadata": {},
   "outputs": [],
   "source": [
    "x=data.SN\n",
    "y=data.MAX_Teperature"
   ]
  },
  {
   "cell_type": "code",
   "execution_count": 4,
   "metadata": {},
   "outputs": [
    {
     "name": "stdout",
     "output_type": "stream",
     "text": [
      "32\n"
     ]
    }
   ],
   "source": [
    "x1=[]\n",
    "x2=[]\n",
    "x3=[]\n",
    "x4=[]\n",
    "x5=[]\n",
    "x6=[]\n",
    "x7=[]\n",
    "x8=[]\n",
    "x9=[]\n",
    "x10=[]\n",
    "x11=[]\n",
    "x12=[]\n",
    "y1=[]\n",
    "y2=[]\n",
    "y3=[]\n",
    "y4=[]\n",
    "y5=[]\n",
    "y6=[]\n",
    "y7=[]\n",
    "y8=[]\n",
    "y9=[]\n",
    "y10=[]\n",
    "y11=[]\n",
    "y12=[]\n",
    "for i in range(len(x)):\n",
    "    if x[i]<=31:\n",
    "        x1.append(x[i])\n",
    "        y1.append(y[i])\n",
    "    elif x[i]>=32 and x[i]<=59:\n",
    "        x2.append(x[i])\n",
    "        y2.append(y[i])\n",
    "    elif x[i]>=60 and x[i]<=90:\n",
    "        x3.append(x[i])\n",
    "        y3.append(y[i])\n",
    "    elif x[i]>=91 and x[i]<=120:\n",
    "        x4.append(x[i])\n",
    "        y4.append(y[i])\n",
    "    elif x[i]>=121 and x[i]<=151:\n",
    "        x5.append(x[i])\n",
    "        y5.append(y[i])\n",
    "    elif x[i]>=152 and x[i]<=181:\n",
    "        x6.append(x[i])\n",
    "        y6.append(y[i])\n",
    "    elif x[i]>=182 and x[i]<=212:\n",
    "        x7.append(x[i])\n",
    "        y7.append(y[i])\n",
    "    elif x[i]>=213 and x[i]<=243:\n",
    "        x8.append(x[i])\n",
    "        y8.append(y[i])\n",
    "    elif x[i]>=244 and x[i]<=273:\n",
    "        x9.append(x[i])\n",
    "        y9.append(y[i])\n",
    "    elif x[i]>=274 and x[i]<=303:\n",
    "        x10.append(x[i])\n",
    "        y10.append(y[i])\n",
    "    elif x[i]>=304 and x[i]<=333:\n",
    "        x11.append(x[i])\n",
    "        y11.append(y[i])\n",
    "    else:\n",
    "        x12.append(x[i])\n",
    "        y12.append(y[i])\n",
    "print(len(x12))"
   ]
  },
  {
   "cell_type": "code",
   "execution_count": 5,
   "metadata": {},
   "outputs": [
    {
     "data": {
      "image/png": "[encoded data removed]",
      "text/plain": [
       "<Figure size 432x288 with 1 Axes>"
      ]
     },
     "metadata": {
      "needs_background": "light"
     },
     "output_type": "display_data"
    }
   ],
   "source": [
    "plt.scatter(x11,y11, color = 'red') \n",
    "plt.title('March to Augost')\n",
    "plt.xlabel('Day')\n",
    "plt.ylabel('Teperature')\n",
    "plt.show()"
   ]
  },
  {
   "cell_type": "code",
   "execution_count": 6,
   "metadata": {},
   "outputs": [],
   "source": [
    "def DM(m,c,x,y):\n",
    "    s=0\n",
    "    for i in range(len(x)):\n",
    "        s+=x[i]*(y[i]-m*x[i]-c)\n",
    "    return -(2/len(x))*s"
   ]
  },
  {
   "cell_type": "code",
   "execution_count": 7,
   "metadata": {},
   "outputs": [],
   "source": [
    "def DC(m,c,x,y):\n",
    "    s=0 \n",
    "    for i in range(len(x)):\n",
    "        s+=(y[i]-m*x[i]-c)\n",
    "    return -(2/len(x))*s"
   ]
  },
  {
   "cell_type": "code",
   "execution_count": 8,
   "metadata": {},
   "outputs": [],
   "source": [
    "def error(m,c,x,y):\n",
    "    s=0\n",
    "    for i in range(len(x)):\n",
    "        y1=m*x[i]+c\n",
    "        s+=(y1-y[i])**2\n",
    "    return (1/len(x))*s"
   ]
  },
  {
   "cell_type": "code",
   "execution_count": 55,
   "metadata": {},
   "outputs": [],
   "source": [
    "def GD(X,Y):\n",
    "    E=[]\n",
    "    m=0.2\n",
    "    c=14\n",
    "    ep=2000\n",
    "    L=0.00000001\n",
    "    for i in range(ep):\n",
    "        er=error(m,c,X,Y)\n",
    "        E.append(er)\n",
    "        dm=DM(m,c,X,Y)\n",
    "        dc=DC(m,c,X,Y)\n",
    "        m-=L*dm\n",
    "        c-=L*dc\n",
    "    return m,c,E"
   ]
  },
  {
   "cell_type": "code",
   "execution_count": 56,
   "metadata": {},
   "outputs": [],
   "source": [
    "m,c,e=GD(x1,y1)"
   ]
  },
  {
   "cell_type": "code",
   "execution_count": 57,
   "metadata": {},
   "outputs": [
    {
     "name": "stdout",
     "output_type": "stream",
     "text": [
      "0.20385909508819414 14.000273983252763\n"
     ]
    }
   ],
   "source": [
    "py=[]\n",
    "for i in range(len(x1)):\n",
    "    t=x1[i]*m+c\n",
    "    py.append(t)\n",
    "py.reverse()\n",
    "print(m,c)"
   ]
  },
  {
   "cell_type": "code",
   "execution_count": 58,
   "metadata": {},
   "outputs": [
    {
     "data": {
      "image/png": "[encoded data removed]",
      "text/plain": [
       "<Figure size 432x288 with 1 Axes>"
      ]
     },
     "metadata": {
      "needs_background": "light"
     },
     "output_type": "display_data"
    }
   ],
   "source": [
    "plt.scatter(x1,py, color = 'red') \n",
    "plt.title('March to Augost')\n",
    "plt.xlabel('Day')\n",
    "plt.ylabel('Teperature')\n",
    "plt.show()"
   ]
  },
  {
   "cell_type": "code",
   "execution_count": 284,
   "metadata": {},
   "outputs": [],
   "source": [
    "#d=eval(input(\"Enter Day :\"))\n",
    "#mn=eval(input(\"Enter Month :\"))\n",
    "#day=d+(mn*30)\n",
    "#for i in range(len(py)):\n",
    " #   if x[i]== day:\n",
    " #       temp=py[i]\n",
    "#print('Temperature :',temp)\n",
    "#print(py[d])"
   ]
  },
  {
   "cell_type": "code",
   "execution_count": 29,
   "metadata": {},
   "outputs": [
    {
     "name": "stdout",
     "output_type": "stream",
     "text": [
      "3\n"
     ]
    }
   ],
   "source": [
    "print(1*3)"
   ]
  },
  {
   "cell_type": "code",
   "execution_count": null,
   "metadata": {},
   "outputs": [],
   "source": []
  }
 ],
 "metadata": {
  "kernelspec": {
   "display_name": "Python 3",
   "language": "python",
   "name": "python3"
  },
  "language_info": {
   "codemirror_mode": {
    "name": "ipython",
    "version": 3
   },
   "file_extension": ".py",
   "mimetype": "text/x-python",
   "name": "python",
   "nbconvert_exporter": "python",
   "pygments_lexer": "ipython3",
   "version": "3.7.1"
  }
 },
 "nbformat": 4,
 "nbformat_minor": 2
}

{
 "cells": [
  {
   "cell_type": "code",
   "execution_count": 205,
   "metadata": {},
   "outputs": [],
   "source": [
    "import numpy as np\n",
    "import pandas as pd\n",
    "import matplotlib.pyplot as plt"
   ]
  },
  {
   "cell_type": "code",
   "execution_count": 206,
   "metadata": {},
   "outputs": [
    {
     "data": {
      "text/html": [
       "<div>\n",
       "<style scoped>\n",
       "    .dataframe tbody tr th:only-of-type {\n",
       "        vertical-align: middle;\n",
       "    }\n",
       "\n",
       "    .dataframe tbody tr th {\n",
       "        vertical-align: top;\n",
       "    }\n",
       "\n",
       "    .dataframe thead th {\n",
       "        text-align: right;\n",
       "    }\n",
       "</style>\n",
       "<table border=\"1\" class=\"dataframe\">\n",
       "  <thead>\n",
       "    <tr style=\"text-align: right;\">\n",
       "      <th></th>\n",
       "      <th>SN</th>\n",
       "      <th>Teperature</th>\n",
       "    </tr>\n",
       "  </thead>\n",
       "  <tbody>\n",
       "    <tr>\n",
       "      <th>0</th>\n",
       "      <td>1</td>\n",
       "      <td>26.3</td>\n",
       "    </tr>\n",
       "    <tr>\n",
       "      <th>1</th>\n",
       "      <td>2</td>\n",
       "      <td>26.4</td>\n",
       "    </tr>\n",
       "    <tr>\n",
       "      <th>2</th>\n",
       "      <td>3</td>\n",
       "      <td>26.5</td>\n",
       "    </tr>\n",
       "    <tr>\n",
       "      <th>3</th>\n",
       "      <td>4</td>\n",
       "      <td>26.7</td>\n",
       "    </tr>\n",
       "    <tr>\n",
       "      <th>4</th>\n",
       "      <td>5</td>\n",
       "      <td>25.9</td>\n",
       "    </tr>\n",
       "  </tbody>\n",
       "</table>\n",
       "</div>"
      ],
      "text/plain": [
       "   SN  Teperature\n",
       "0   1        26.3\n",
       "1   2        26.4\n",
       "2   3        26.5\n",
       "3   4        26.7\n",
       "4   5        25.9"
      ]
     },
     "execution_count": 206,
     "metadata": {},
     "output_type": "execute_result"
    }
   ],
   "source": [
    "data=pd.read_csv('data.csv', delimiter=',',names = ['SN','Teperature'])\n",
    "data.head()\n",
    "#print(len(data))"
   ]
  },
  {
   "cell_type": "code",
   "execution_count": 207,
   "metadata": {},
   "outputs": [],
   "source": [
    "x=data.SN\n",
    "y=data.Teperature"
   ]
  },
  {
   "cell_type": "code",
   "execution_count": 208,
   "metadata": {},
   "outputs": [
    {
     "name": "stdout",
     "output_type": "stream",
     "text": [
      "90\n"
     ]
    }
   ],
   "source": [
    "x1=[]\n",
    "y1=[]\n",
    "for i in range(len(x)):\n",
    "    if x[i]>=304 and x[i]<334:\n",
    "        x1.append(x[i])\n",
    "        y1.append(y[i])\n",
    "print(len(x1))"
   ]
  },
  {
   "cell_type": "code",
   "execution_count": 209,
   "metadata": {},
   "outputs": [
    {
     "data": {
      "image/png": "[encoded data removed]",
      "text/plain": [
       "<Figure size 432x288 with 1 Axes>"
      ]
     },
     "metadata": {
      "needs_background": "light"
     },
     "output_type": "display_data"
    }
   ],
   "source": [
    "plt.scatter(x1,y1, color = 'red') \n",
    "plt.title('March to Augost')\n",
    "plt.xlabel('Day')\n",
    "plt.ylabel('Teperature')\n",
    "plt.show()"
   ]
  },
  {
   "cell_type": "code",
   "execution_count": 210,
   "metadata": {},
   "outputs": [],
   "source": [
    "def DM(m,c,x,y):\n",
    "    s=0\n",
    "    for i in range(len(x)):\n",
    "        s+=x[i]*(y[i]-m*x[i]-c)\n",
    "    return -(2/len(x))*s"
   ]
  },
  {
   "cell_type": "code",
   "execution_count": 211,
   "metadata": {},
   "outputs": [],
   "source": [
    "def DC(m,c,x,y):\n",
    "    s=0 \n",
    "    for i in range(len(x)):\n",
    "        s+=(y[i]-m*x[i]-c)\n",
    "    return -(2/len(x))*s"
   ]
  },
  {
   "cell_type": "code",
   "execution_count": 212,
   "metadata": {},
   "outputs": [],
   "source": [
    "def error(m,c,x,y):\n",
    "    s=0\n",
    "    for i in range(len(x)):\n",
    "        y1=m*x[i]+c\n",
    "        s+=(y1-y[i])**2\n",
    "    return (1/len(x))*s"
   ]
  },
  {
   "cell_type": "code",
   "execution_count": 232,
   "metadata": {},
   "outputs": [],
   "source": [
    "def GD(X,Y):\n",
    "    E=[]\n",
    "    m=0\n",
    "    c=0\n",
    "    ep=1000\n",
    "    L=0.00000001\n",
    "    for i in range(ep):\n",
    "        er=error(m,c,X,Y)\n",
    "        E.append(er)\n",
    "        dm=DM(m,c,X,Y)\n",
    "        dc=DC(m,c,X,Y)\n",
    "        m-=L*dm\n",
    "        c-=L*dc\n",
    "    return m,c,E"
   ]
  },
  {
   "cell_type": "code",
   "execution_count": 233,
   "metadata": {},
   "outputs": [],
   "source": [
    "m,c,e=GD(x1,y1)"
   ]
  },
  {
   "cell_type": "code",
   "execution_count": 234,
   "metadata": {},
   "outputs": [
    {
     "name": "stdout",
     "output_type": "stream",
     "text": [
      "0.0823988646804127 0.00025945044252365204\n"
     ]
    }
   ],
   "source": [
    "py=[]\n",
    "for i in range(len(x1)):\n",
    "    t=x1[i]*m+c\n",
    "    py.append(t)\n",
    "py.reverse()\n",
    "print(m,c)"
   ]
  },
  {
   "cell_type": "code",
   "execution_count": 235,
   "metadata": {},
   "outputs": [
    {
     "data": {
      "image/png": "[encoded data removed]",
      "text/plain": [
       "<Figure size 432x288 with 1 Axes>"
      ]
     },
     "metadata": {
      "needs_background": "light"
     },
     "output_type": "display_data"
    }
   ],
   "source": [
    "plt.scatter(x1,py, color = 'red') \n",
    "plt.title('March to Augost')\n",
    "plt.xlabel('Day')\n",
    "plt.ylabel('Teperature')\n",
    "plt.show()"
   ]
  },
  {
   "cell_type": "code",
   "execution_count": 236,
   "metadata": {},
   "outputs": [
    {
     "name": "stdout",
     "output_type": "stream",
     "text": [
      "Enter Day :3\n",
      "27.191884794978716\n"
     ]
    }
   ],
   "source": [
    "d=eval(input(\"Enter Day :\"))\n",
    "#mn=eval(input(\"Enter Month :\"))\n",
    "#day=d+(mn*30)\n",
    "#for i in range(len(py)):\n",
    " #   if x[i]== day:\n",
    " #       temp=py[i]\n",
    "#print('Temperature :',temp)\n",
    "print(py[d])"
   ]
  },
  {
   "cell_type": "code",
   "execution_count": null,
   "metadata": {},
   "outputs": [],
   "source": []
  }
 ],
 "metadata": {
  "kernelspec": {
   "display_name": "Python 3",
   "language": "python",
   "name": "python3"
  },
  "language_info": {
   "codemirror_mode": {
    "name": "ipython",
    "version": 3
   },
   "file_extension": ".py",
   "mimetype": "text/x-python",
   "name": "python",
   "nbconvert_exporter": "python",
   "pygments_lexer": "ipython3",
   "version": "3.7.1"
  }
 },
 "nbformat": 4,
 "nbformat_minor": 2
}

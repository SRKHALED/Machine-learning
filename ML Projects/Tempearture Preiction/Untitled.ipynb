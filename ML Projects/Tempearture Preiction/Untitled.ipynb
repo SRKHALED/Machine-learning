{
 "cells": [
  {
   "cell_type": "code",
   "execution_count": 4,
   "metadata": {},
   "outputs": [],
   "source": [
    "import numpy as np\n",
    "import pandas as pd\n",
    "import matplotlib.pyplot as plt"
   ]
  },
  {
   "cell_type": "code",
   "execution_count": 5,
   "metadata": {},
   "outputs": [
    {
     "data": {
      "text/html": [
       "<div>\n",
       "<style scoped>\n",
       "    .dataframe tbody tr th:only-of-type {\n",
       "        vertical-align: middle;\n",
       "    }\n",
       "\n",
       "    .dataframe tbody tr th {\n",
       "        vertical-align: top;\n",
       "    }\n",
       "\n",
       "    .dataframe thead th {\n",
       "        text-align: right;\n",
       "    }\n",
       "</style>\n",
       "<table border=\"1\" class=\"dataframe\">\n",
       "  <thead>\n",
       "    <tr style=\"text-align: right;\">\n",
       "      <th></th>\n",
       "      <th>SN</th>\n",
       "      <th>Teperature</th>\n",
       "    </tr>\n",
       "  </thead>\n",
       "  <tbody>\n",
       "    <tr>\n",
       "      <th>0</th>\n",
       "      <td>1</td>\n",
       "      <td>26.3</td>\n",
       "    </tr>\n",
       "    <tr>\n",
       "      <th>1</th>\n",
       "      <td>2</td>\n",
       "      <td>26.4</td>\n",
       "    </tr>\n",
       "    <tr>\n",
       "      <th>2</th>\n",
       "      <td>3</td>\n",
       "      <td>26.5</td>\n",
       "    </tr>\n",
       "    <tr>\n",
       "      <th>3</th>\n",
       "      <td>4</td>\n",
       "      <td>26.7</td>\n",
       "    </tr>\n",
       "    <tr>\n",
       "      <th>4</th>\n",
       "      <td>5</td>\n",
       "      <td>25.9</td>\n",
       "    </tr>\n",
       "  </tbody>\n",
       "</table>\n",
       "</div>"
      ],
      "text/plain": [
       "   SN  Teperature\n",
       "0   1        26.3\n",
       "1   2        26.4\n",
       "2   3        26.5\n",
       "3   4        26.7\n",
       "4   5        25.9"
      ]
     },
     "execution_count": 5,
     "metadata": {},
     "output_type": "execute_result"
    }
   ],
   "source": [
    "data=pd.read_csv('data.csv', delimiter=',',names = ['SN','Teperature'])\n",
    "data.head()\n",
    "#print(len(data))"
   ]
  },
  {
   "cell_type": "code",
   "execution_count": 6,
   "metadata": {},
   "outputs": [
    {
     "name": "stdout",
     "output_type": "stream",
     "text": [
      "22 22\n"
     ]
    }
   ],
   "source": [
    "x1=[6,7,8,9,10,11,12,13,14,15,16,6,7,8,9,10,11,12,13,14,15,16]\n",
    "x2=[17,18,19,20,21,22,23]\n",
    "x3=[0,1,2,3,4,5]\n",
    "y2=[17,18,19,19,20,21,22,23,24,24,25,17,18,19,19,20,21,22,23,24,24,25]\n",
    "\n",
    "print(len(x),len(y))"
   ]
  },
  {
   "cell_type": "code",
   "execution_count": 7,
   "metadata": {},
   "outputs": [
    {
     "data": {
      "image/png": "[encoded data removed]",
      "text/plain": [
       "<Figure size 432x288 with 1 Axes>"
      ]
     },
     "metadata": {
      "needs_background": "light"
     },
     "output_type": "display_data"
    }
   ],
   "source": [
    "plt.scatter(x,y, color = 'red') \n",
    "plt.title('January to Augost')\n",
    "plt.xlabel('Day')\n",
    "plt.ylabel('Teperature')\n",
    "plt.show()"
   ]
  },
  {
   "cell_type": "code",
   "execution_count": 8,
   "metadata": {},
   "outputs": [],
   "source": [
    "def DM(m,c,x,y):\n",
    "    s=0\n",
    "    for i in range(len(x)):\n",
    "        s+=x[i]*(y[i]-m*x[i]-c)\n",
    "    return -(2/len(x))*s"
   ]
  },
  {
   "cell_type": "code",
   "execution_count": 9,
   "metadata": {},
   "outputs": [],
   "source": [
    "def DC(m,c,x,y):\n",
    "    s=0 \n",
    "    for i in range(len(x)):\n",
    "        s+=(y[i]-m*x[i]-c)\n",
    "    return -(2/len(x))*s"
   ]
  },
  {
   "cell_type": "code",
   "execution_count": 10,
   "metadata": {},
   "outputs": [],
   "source": [
    "def error(m,c,x,y):\n",
    "    s=0\n",
    "    for i in range(len(x)):\n",
    "        y1=m*x[i]+c\n",
    "        s+=(y1-y[i])**2\n",
    "    return (1/len(x))*s"
   ]
  },
  {
   "cell_type": "code",
   "execution_count": 77,
   "metadata": {},
   "outputs": [],
   "source": [
    "def GD(X,Y):\n",
    "    E=[]\n",
    "    m=0\n",
    "    c=0\n",
    "    ep=200\n",
    "    L=0.001\n",
    "    for i in range(ep):\n",
    "        er=error(m,c,X,Y)\n",
    "        E.append(er)\n",
    "        dm=DM(m,c,X,Y)\n",
    "        dc=DC(m,c,X,Y)\n",
    "        m-=L*dm\n",
    "        c-=L*dc\n",
    "    return m,c,E"
   ]
  },
  {
   "cell_type": "code",
   "execution_count": 78,
   "metadata": {},
   "outputs": [
    {
     "name": "stdout",
     "output_type": "stream",
     "text": [
      "1.790288462656554 0.5124996673903203\n"
     ]
    }
   ],
   "source": [
    "m,c,e=GD(x,y)\n",
    "print(m,c)"
   ]
  },
  {
   "cell_type": "code",
   "execution_count": 79,
   "metadata": {},
   "outputs": [
    {
     "name": "stdout",
     "output_type": "stream",
     "text": [
      "[11.254230443329645, 13.0445189059862, 14.834807368642753, 16.625095831299305, 18.41538429395586, 20.205672756612415, 21.995961219268967, 23.786249681925522, 25.576538144582077, 27.36682660723863, 29.157115069895184, 11.254230443329645, 13.0445189059862, 14.834807368642753, 16.625095831299305, 18.41538429395586, 20.205672756612415, 21.995961219268967, 23.786249681925522, 25.576538144582077, 27.36682660723863, 29.157115069895184]\n"
     ]
    }
   ],
   "source": [
    "PR=[]\n",
    "for i in range(len(x)):\n",
    "    y1=m*x[i]+c\n",
    "    PR.append(y1)\n",
    "print(PR)"
   ]
  },
  {
   "cell_type": "code",
   "execution_count": 80,
   "metadata": {},
   "outputs": [
    {
     "data": {
      "image/png": "[encoded data removed]",
      "text/plain": [
       "<Figure size 432x288 with 1 Axes>"
      ]
     },
     "metadata": {
      "needs_background": "light"
     },
     "output_type": "display_data"
    }
   ],
   "source": [
    "plt.scatter(x,PR, color = 'red') \n",
    "plt.title('January to Augost')\n",
    "plt.xlabel('Day')\n",
    "plt.ylabel('Teperature')\n",
    "plt.show()"
   ]
  },
  {
   "cell_type": "code",
   "execution_count": null,
   "metadata": {},
   "outputs": [],
   "source": []
  },
  {
   "cell_type": "code",
   "execution_count": null,
   "metadata": {},
   "outputs": [],
   "source": []
  }
 ],
 "metadata": {
  "kernelspec": {
   "display_name": "Python 3",
   "language": "python",
   "name": "python3"
  },
  "language_info": {
   "codemirror_mode": {
    "name": "ipython",
    "version": 3
   },
   "file_extension": ".py",
   "mimetype": "text/x-python",
   "name": "python",
   "nbconvert_exporter": "python",
   "pygments_lexer": "ipython3",
   "version": "3.7.1"
  }
 },
 "nbformat": 4,
 "nbformat_minor": 2
}

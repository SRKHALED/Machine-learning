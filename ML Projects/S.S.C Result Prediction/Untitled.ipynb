{
 "cells": [
  {
   "cell_type": "code",
   "execution_count": 63,
   "metadata": {},
   "outputs": [],
   "source": [
    "import numpy as np\n",
    "import pandas as pd\n",
    "import matplotlib.pyplot as plt"
   ]
  },
  {
   "cell_type": "code",
   "execution_count": 64,
   "metadata": {},
   "outputs": [
    {
     "data": {
      "text/html": [
       "<div>\n",
       "<style scoped>\n",
       "    .dataframe tbody tr th:only-of-type {\n",
       "        vertical-align: middle;\n",
       "    }\n",
       "\n",
       "    .dataframe tbody tr th {\n",
       "        vertical-align: top;\n",
       "    }\n",
       "\n",
       "    .dataframe thead th {\n",
       "        text-align: right;\n",
       "    }\n",
       "</style>\n",
       "<table border=\"1\" class=\"dataframe\">\n",
       "  <thead>\n",
       "    <tr style=\"text-align: right;\">\n",
       "      <th></th>\n",
       "      <th>Pretest_Result</th>\n",
       "      <th>Test_Result</th>\n",
       "      <th>SSC_Result</th>\n",
       "    </tr>\n",
       "  </thead>\n",
       "  <tbody>\n",
       "    <tr>\n",
       "      <th>0</th>\n",
       "      <td>0.46</td>\n",
       "      <td>0.66</td>\n",
       "      <td>0.68</td>\n",
       "    </tr>\n",
       "    <tr>\n",
       "      <th>1</th>\n",
       "      <td>0.55</td>\n",
       "      <td>0.78</td>\n",
       "      <td>0.75</td>\n",
       "    </tr>\n",
       "    <tr>\n",
       "      <th>2</th>\n",
       "      <td>0.33</td>\n",
       "      <td>0.85</td>\n",
       "      <td>0.85</td>\n",
       "    </tr>\n",
       "    <tr>\n",
       "      <th>3</th>\n",
       "      <td>0.60</td>\n",
       "      <td>0.90</td>\n",
       "      <td>0.93</td>\n",
       "    </tr>\n",
       "    <tr>\n",
       "      <th>4</th>\n",
       "      <td>0.80</td>\n",
       "      <td>0.95</td>\n",
       "      <td>0.98</td>\n",
       "    </tr>\n",
       "  </tbody>\n",
       "</table>\n",
       "</div>"
      ],
      "text/plain": [
       "   Pretest_Result  Test_Result  SSC_Result\n",
       "0            0.46         0.66        0.68\n",
       "1            0.55         0.78        0.75\n",
       "2            0.33         0.85        0.85\n",
       "3            0.60         0.90        0.93\n",
       "4            0.80         0.95        0.98"
      ]
     },
     "execution_count": 64,
     "metadata": {},
     "output_type": "execute_result"
    }
   ],
   "source": [
    "data=pd.read_csv('data2.csv', delimiter=',',names = ['Pretest_Result','Test_Result','SSC_Result'])\n",
    "data.head()\n"
   ]
  },
  {
   "cell_type": "code",
   "execution_count": 65,
   "metadata": {},
   "outputs": [],
   "source": [
    "x1=data.Pretest_Result\n",
    "x2=data.Test_Result\n",
    "y=data.SSC_Result"
   ]
  },
  {
   "cell_type": "code",
   "execution_count": 66,
   "metadata": {},
   "outputs": [
    {
     "data": {
      "image/png": "[encoded data removed]",
      "text/plain": [
       "<Figure size 432x288 with 1 Axes>"
      ]
     },
     "metadata": {
      "needs_background": "light"
     },
     "output_type": "display_data"
    }
   ],
   "source": [
    "plt.scatter(x2,y, color = 'red') \n",
    "plt.title('Test_Result VS SSC_Result')\n",
    "plt.xlabel('Test_Result')\n",
    "plt.ylabel('SSC_Result')\n",
    "plt.show()"
   ]
  },
  {
   "cell_type": "code",
   "execution_count": 67,
   "metadata": {},
   "outputs": [
    {
     "data": {
      "image/png": "[encoded data removed]",
      "text/plain": [
       "<Figure size 432x288 with 1 Axes>"
      ]
     },
     "metadata": {
      "needs_background": "light"
     },
     "output_type": "display_data"
    }
   ],
   "source": [
    "plt.scatter(x1,y, color = 'red') \n",
    "plt.title('Pretest_Result VS SSC_Result')\n",
    "plt.xlabel('Pretest_Result')\n",
    "plt.ylabel('SSC_Result')\n",
    "plt.show()"
   ]
  },
  {
   "cell_type": "code",
   "execution_count": 68,
   "metadata": {},
   "outputs": [],
   "source": [
    "def DM1(m1,m2,c,x1,x2,y):\n",
    "    s=0\n",
    "    for i in range(len(x1)):\n",
    "        s+=x1[i]*(y[i]-m1*x1[i]-m2*x2[i]-c)\n",
    "    return -(2/len(x1))*s"
   ]
  },
  {
   "cell_type": "code",
   "execution_count": 69,
   "metadata": {},
   "outputs": [],
   "source": [
    "def DM2(m1,m2,c,x1,x2,y):\n",
    "    s=0\n",
    "    for i in range(len(x1)):\n",
    "        s+=x2[i]*(y[i]-m1*x1[i]-m2*x2[i]-c)\n",
    "    return -(2/len(x1))*s"
   ]
  },
  {
   "cell_type": "code",
   "execution_count": 70,
   "metadata": {},
   "outputs": [],
   "source": [
    "def DC(m1,m2,c,x1,x2,y):\n",
    "    s=0\n",
    "    for i in range(len(x1)):\n",
    "        s+=(y[i]-m1*x1[i]-m2*x2[i]-c)\n",
    "    return -(2/len(x1))*s"
   ]
  },
  {
   "cell_type": "code",
   "execution_count": 71,
   "metadata": {},
   "outputs": [],
   "source": [
    "def error(m1,m2,c,x1,x2,y):\n",
    "    s=0\n",
    "    for i in range(len(x1)):\n",
    "        y1=m1*x1[i]+m2*x2[i]+c\n",
    "        s+=(y1-y[i])**2\n",
    "    return (1/len(x1))*s"
   ]
  },
  {
   "cell_type": "code",
   "execution_count": 72,
   "metadata": {},
   "outputs": [],
   "source": [
    "def GD(x1,x2,y):\n",
    "    E=[]\n",
    "    m1=0\n",
    "    m2=0\n",
    "    c=0\n",
    "    ep=1000\n",
    "    L=0.01\n",
    "    for i in range(ep):\n",
    "        er=error(m1,m2,c,x1,x2,y)\n",
    "        E.append(er)\n",
    "        dm1=DM1(m1,m2,c,x1,x2,y)\n",
    "        dm2=DM2(m1,m2,c,x1,x2,y)\n",
    "        dc=DC(m1,m2,c,x1,x2,y)\n",
    "        m1-=L*dm1\n",
    "        m2-=L*dm2\n",
    "        c-=L*dc\n",
    "        #print(m,c)\n",
    "    return m1,m2,c,E"
   ]
  },
  {
   "cell_type": "code",
   "execution_count": 73,
   "metadata": {},
   "outputs": [
    {
     "name": "stdout",
     "output_type": "stream",
     "text": [
      "0.27917207097353397 0.356581354155798 0.36739471494456677\n"
     ]
    }
   ],
   "source": [
    "m1,m2,c,e=GD(x1,x2,y)\n",
    "print(m1,m2,c)\n",
    "#print(e)"
   ]
  },
  {
   "cell_type": "code",
   "execution_count": 74,
   "metadata": {},
   "outputs": [
    {
     "name": "stdout",
     "output_type": "stream",
     "text": [
      "[0.731157561335219, 0.799072810221533, 0.7626156493982613, 0.8558211762689054, 0.929484658171402, 0.7919411831384169, 0.8488543407825015, 0.8564554100798849, 0.8874689885045289, 0.909028661350589, 0.9156908462194375, 0.8989405219610255, 0.9510443310174621, 0.9477831680934593, 0.9606630281927582, 0.9769439102369027, 0.99399888511287, 0.9805097237784608, 0.9423645182707009, 0.9701169337713421, 0.9784920959005481]\n"
     ]
    }
   ],
   "source": [
    "PR=[]\n",
    "for i in range(len(x1)):\n",
    "    y1=m1*x1[i]+x2[i]*m2+c\n",
    "    PR.append(y1)\n",
    "print(PR)"
   ]
  },
  {
   "cell_type": "code",
   "execution_count": 75,
   "metadata": {},
   "outputs": [
    {
     "data": {
      "image/png": "[encoded data removed]",
      "text/plain": [
       "<Figure size 432x288 with 1 Axes>"
      ]
     },
     "metadata": {
      "needs_background": "light"
     },
     "output_type": "display_data"
    }
   ],
   "source": [
    "plt.scatter(x1,PR, color = 'red')\n",
    "plt.show()"
   ]
  },
  {
   "cell_type": "code",
   "execution_count": 78,
   "metadata": {},
   "outputs": [
    {
     "name": "stdout",
     "output_type": "stream",
     "text": [
      "Enter Pretest Result :55\n",
      "Enter Test Result :60\n",
      "S.S.C Result : 73 %\n"
     ]
    }
   ],
   "source": [
    "t1=eval(input(\"Enter Pretest Result :\"))/100\n",
    "t2=eval(input(\"Enter Test Result :\"))/100\n",
    "p = m1*t1+m2*t2+c\n",
    "print('S.S.C Result :',int(p*100),'%')"
   ]
  },
  {
   "cell_type": "code",
   "execution_count": null,
   "metadata": {},
   "outputs": [],
   "source": []
  }
 ],
 "metadata": {
  "kernelspec": {
   "display_name": "Python 3",
   "language": "python",
   "name": "python3"
  },
  "language_info": {
   "codemirror_mode": {
    "name": "ipython",
    "version": 3
   },
   "file_extension": ".py",
   "mimetype": "text/x-python",
   "name": "python",
   "nbconvert_exporter": "python",
   "pygments_lexer": "ipython3",
   "version": "3.7.1"
  }
 },
 "nbformat": 4,
 "nbformat_minor": 2
}

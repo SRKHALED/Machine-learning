{
 "cells": [
  {
   "cell_type": "code",
   "execution_count": 2,
   "metadata": {},
   "outputs": [],
   "source": [
    "import numpy as np\n",
    "import pandas as pd\n",
    "import matplotlib.pyplot as plt"
   ]
  },
  {
   "cell_type": "code",
   "execution_count": 3,
   "metadata": {},
   "outputs": [
    {
     "data": {
      "text/html": [
       "<div>\n",
       "<style scoped>\n",
       "    .dataframe tbody tr th:only-of-type {\n",
       "        vertical-align: middle;\n",
       "    }\n",
       "\n",
       "    .dataframe tbody tr th {\n",
       "        vertical-align: top;\n",
       "    }\n",
       "\n",
       "    .dataframe thead th {\n",
       "        text-align: right;\n",
       "    }\n",
       "</style>\n",
       "<table border=\"1\" class=\"dataframe\">\n",
       "  <thead>\n",
       "    <tr style=\"text-align: right;\">\n",
       "      <th></th>\n",
       "      <th>Year</th>\n",
       "      <th>Rainfall</th>\n",
       "      <th>Production</th>\n",
       "    </tr>\n",
       "  </thead>\n",
       "  <tbody>\n",
       "    <tr>\n",
       "      <th>0</th>\n",
       "      <td>2017-18</td>\n",
       "      <td>253</td>\n",
       "      <td>362793</td>\n",
       "    </tr>\n",
       "    <tr>\n",
       "      <th>1</th>\n",
       "      <td>2016-17</td>\n",
       "      <td>243</td>\n",
       "      <td>342015</td>\n",
       "    </tr>\n",
       "    <tr>\n",
       "      <th>2</th>\n",
       "      <td>2015-16</td>\n",
       "      <td>249</td>\n",
       "      <td>350605</td>\n",
       "    </tr>\n",
       "    <tr>\n",
       "      <th>3</th>\n",
       "      <td>2014-15</td>\n",
       "      <td>243</td>\n",
       "      <td>348612</td>\n",
       "    </tr>\n",
       "    <tr>\n",
       "      <th>4</th>\n",
       "      <td>2013-14</td>\n",
       "      <td>244</td>\n",
       "      <td>343563</td>\n",
       "    </tr>\n",
       "  </tbody>\n",
       "</table>\n",
       "</div>"
      ],
      "text/plain": [
       "      Year  Rainfall  Production\n",
       "0  2017-18       253      362793\n",
       "1  2016-17       243      342015\n",
       "2  2015-16       249      350605\n",
       "3  2014-15       243      348612\n",
       "4  2013-14       244      343563"
      ]
     },
     "execution_count": 3,
     "metadata": {},
     "output_type": "execute_result"
    }
   ],
   "source": [
    "data=pd.read_csv('data.csv', delimiter=',',names = ['Year','Rainfall','Production'])\n",
    "data.head()\n"
   ]
  },
  {
   "cell_type": "code",
   "execution_count": 14,
   "metadata": {},
   "outputs": [],
   "source": [
    "R = data.Rainfall\n",
    "P = data.Production"
   ]
  },
  {
   "cell_type": "code",
   "execution_count": 15,
   "metadata": {},
   "outputs": [
    {
     "data": {
      "image/png": "[encoded data removed]",
      "text/plain": [
       "<Figure size 432x288 with 1 Axes>"
      ]
     },
     "metadata": {
      "needs_background": "light"
     },
     "output_type": "display_data"
    }
   ],
   "source": [
    "plt.scatter(R,P, color = 'red') \n",
    "plt.title('Rainfall vs Production')\n",
    "plt.xlabel('Rainfall')\n",
    "plt.ylabel('Production')\n",
    "plt.show()"
   ]
  },
  {
   "cell_type": "code",
   "execution_count": 16,
   "metadata": {},
   "outputs": [],
   "source": [
    "def DM(m,c,x,y):\n",
    "    s=0\n",
    "    for i in range(len(x)):\n",
    "        s+=x[i]*(y[i]-m*x[i]-c)\n",
    "    return -(2/len(x))*s"
   ]
  },
  {
   "cell_type": "code",
   "execution_count": 17,
   "metadata": {},
   "outputs": [],
   "source": [
    "def DC(m,c,x,y):\n",
    "    s=0\n",
    "    for i in range(len(x)):\n",
    "        s+=(y[i]-m*x[i]-c)\n",
    "    return -(2/len(x))*s"
   ]
  },
  {
   "cell_type": "code",
   "execution_count": 18,
   "metadata": {},
   "outputs": [],
   "source": [
    "def GD(X,Y):\n",
    "    m=0\n",
    "    c=0\n",
    "    ep=1000\n",
    "    L=0.0000001\n",
    "    for i in range(ep):\n",
    "        dm=DM(m,c,X,Y)\n",
    "        dc=DC(m,c,X,Y)\n",
    "        #print(m,c)\n",
    "        m-=L*dm\n",
    "        c-=L*dc\n",
    "    return m,c"
   ]
  },
  {
   "cell_type": "code",
   "execution_count": 19,
   "metadata": {},
   "outputs": [
    {
     "name": "stdout",
     "output_type": "stream",
     "text": [
      "1218.574666104648 4.700810116655307\n"
     ]
    }
   ],
   "source": [
    "m,c=GD(R,P)\n",
    "print(m,c)\n",
    "#print(e)"
   ]
  },
  {
   "cell_type": "code",
   "execution_count": 20,
   "metadata": {},
   "outputs": [
    {
     "name": "stdout",
     "output_type": "stream",
     "text": [
      "[308304.0913345926, 296118.34467354615, 303429.79267017404, 296118.34467354615, 297336.9193396508, 286369.74734470894, 287588.3220108136, 283932.5980124996, 276621.15001587174, 304648.36733627866, 293681.19534133683, 257123.9553581974, 255905.38069209273, 223003.86470726726, 253468.23135988344, 249812.5073615695, 285151.1726786043, 281495.44868029037, 254686.8060259881, 275402.5753497671, 255905.38069209273, 275402.5753497671, 230315.31270389515, 238845.33536662767, 253468.23135988344, 272965.4260175578, 249812.5073615695, 252249.6566937788, 251031.08202767416, 243719.63403104627, 282714.023346395, 236408.18603441838, 242501.0593649416, 229096.7380377905, 227878.16337168583, 224222.4393733719, 247375.3580293602, 270528.27668534854, 268091.1273531392, 269309.70201924385, 227878.16337168583, 272965.4260175578, 269309.70201924385, 255905.38069209273, 255905.38069209273, 229096.7380377905, 230315.31270389515]\n"
     ]
    }
   ],
   "source": [
    "Py=[]\n",
    "for i in range(len(R)):\n",
    "    t=m*R[i]+c\n",
    "    Py.append(t)\n",
    "print(Py)"
   ]
  },
  {
   "cell_type": "code",
   "execution_count": 21,
   "metadata": {},
   "outputs": [
    {
     "data": {
      "image/png": "[encoded data removed]",
      "text/plain": [
       "<Figure size 432x288 with 1 Axes>"
      ]
     },
     "metadata": {
      "needs_background": "light"
     },
     "output_type": "display_data"
    }
   ],
   "source": [
    "plt.scatter(R,Py, color = 'red')\n",
    "plt.show()"
   ]
  },
  {
   "cell_type": "code",
   "execution_count": 22,
   "metadata": {},
   "outputs": [
    {
     "name": "stdout",
     "output_type": "stream",
     "text": [
      "Enter Tota Rainfall :666\n",
      "Production :  811575.4284358122\n"
     ]
    }
   ],
   "source": [
    "x1=eval(input('Enter Tota Rainfall :'))\n",
    "print('Production : ',(m*x1)+c)"
   ]
  },
  {
   "cell_type": "code",
   "execution_count": null,
   "metadata": {},
   "outputs": [],
   "source": []
  }
 ],
 "metadata": {
  "kernelspec": {
   "display_name": "Python 3",
   "language": "python",
   "name": "python3"
  },
  "language_info": {
   "codemirror_mode": {
    "name": "ipython",
    "version": 3
   },
   "file_extension": ".py",
   "mimetype": "text/x-python",
   "name": "python",
   "nbconvert_exporter": "python",
   "pygments_lexer": "ipython3",
   "version": "3.7.1"
  }
 },
 "nbformat": 4,
 "nbformat_minor": 2
}

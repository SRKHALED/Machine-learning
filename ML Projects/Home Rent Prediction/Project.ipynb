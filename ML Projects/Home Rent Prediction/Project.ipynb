{
 "cells": [
  {
   "cell_type": "code",
   "execution_count": 22,
   "metadata": {},
   "outputs": [],
   "source": [
    "import numpy as np\n",
    "import pandas as pd\n",
    "import matplotlib.pyplot as plt"
   ]
  },
  {
   "cell_type": "code",
   "execution_count": 23,
   "metadata": {},
   "outputs": [
    {
     "data": {
      "text/html": [
       "<div>\n",
       "<style scoped>\n",
       "    .dataframe tbody tr th:only-of-type {\n",
       "        vertical-align: middle;\n",
       "    }\n",
       "\n",
       "    .dataframe tbody tr th {\n",
       "        vertical-align: top;\n",
       "    }\n",
       "\n",
       "    .dataframe thead th {\n",
       "        text-align: right;\n",
       "    }\n",
       "</style>\n",
       "<table border=\"1\" class=\"dataframe\">\n",
       "  <thead>\n",
       "    <tr style=\"text-align: right;\">\n",
       "      <th></th>\n",
       "      <th>Area</th>\n",
       "      <th>Bed_room</th>\n",
       "      <th>Bathroom</th>\n",
       "      <th>Rent</th>\n",
       "    </tr>\n",
       "  </thead>\n",
       "  <tbody>\n",
       "    <tr>\n",
       "      <th>0</th>\n",
       "      <td>Modina Market</td>\n",
       "      <td>3</td>\n",
       "      <td>2</td>\n",
       "      <td>12000</td>\n",
       "    </tr>\n",
       "    <tr>\n",
       "      <th>1</th>\n",
       "      <td>Modina Market</td>\n",
       "      <td>3</td>\n",
       "      <td>2</td>\n",
       "      <td>12000</td>\n",
       "    </tr>\n",
       "    <tr>\n",
       "      <th>2</th>\n",
       "      <td>Modina Market</td>\n",
       "      <td>3</td>\n",
       "      <td>2</td>\n",
       "      <td>12000</td>\n",
       "    </tr>\n",
       "    <tr>\n",
       "      <th>3</th>\n",
       "      <td>Modina Market</td>\n",
       "      <td>3</td>\n",
       "      <td>2</td>\n",
       "      <td>12500</td>\n",
       "    </tr>\n",
       "    <tr>\n",
       "      <th>4</th>\n",
       "      <td>Modina Market</td>\n",
       "      <td>3</td>\n",
       "      <td>2</td>\n",
       "      <td>12500</td>\n",
       "    </tr>\n",
       "  </tbody>\n",
       "</table>\n",
       "</div>"
      ],
      "text/plain": [
       "            Area  Bed_room  Bathroom   Rent\n",
       "0  Modina Market         3         2  12000\n",
       "1  Modina Market         3         2  12000\n",
       "2  Modina Market         3         2  12000\n",
       "3  Modina Market         3         2  12500\n",
       "4  Modina Market         3         2  12500"
      ]
     },
     "execution_count": 23,
     "metadata": {},
     "output_type": "execute_result"
    }
   ],
   "source": [
    "data=pd.read_csv('data1.csv', delimiter=',',names = ['Area','Bed_room','Bathroom','Rent'])\n",
    "data.head()\n"
   ]
  },
  {
   "cell_type": "code",
   "execution_count": 24,
   "metadata": {},
   "outputs": [],
   "source": [
    "x1=data.Bed_room\n",
    "x2=data.Bathroom\n",
    "y=data.Rent"
   ]
  },
  {
   "cell_type": "code",
   "execution_count": 25,
   "metadata": {},
   "outputs": [
    {
     "data": {
      "image/png": "[encoded data removed]",
      "text/plain": [
       "<Figure size 432x288 with 1 Axes>"
      ]
     },
     "metadata": {
      "needs_background": "light"
     },
     "output_type": "display_data"
    }
   ],
   "source": [
    "plt.scatter(x1,y, color = 'red') \n",
    "plt.title('Bed Room vs Rent')\n",
    "plt.xlabel('Bed Room')\n",
    "plt.ylabel('Rent')\n",
    "plt.show()"
   ]
  },
  {
   "cell_type": "code",
   "execution_count": 26,
   "metadata": {},
   "outputs": [],
   "source": [
    "def DM1(m1,m2,c,x1,x2,y):\n",
    "    s=0\n",
    "    for i in range(len(x1)):\n",
    "        s+=x1[i]*(y[i]-m1*x1[i]-m2*x2[i]-c)\n",
    "    return -(2/len(x1))*s"
   ]
  },
  {
   "cell_type": "code",
   "execution_count": 27,
   "metadata": {},
   "outputs": [],
   "source": [
    "def DM2(m1,m2,c,x1,x2,y):\n",
    "    s=0\n",
    "    for i in range(len(x1)):\n",
    "        s+=x2[i]*(y[i]-m1*x1[i]-m2*x2[i]-c)\n",
    "    return -(2/len(x1))*s"
   ]
  },
  {
   "cell_type": "code",
   "execution_count": 28,
   "metadata": {},
   "outputs": [],
   "source": [
    "def DC(m1,m2,c,x1,x2,y):\n",
    "    s=0\n",
    "    for i in range(len(x1)):\n",
    "        s+=(y[i]-m1*x1[i]-m2*x2[i]-c)\n",
    "    return -(2/len(x1))*s"
   ]
  },
  {
   "cell_type": "code",
   "execution_count": 29,
   "metadata": {},
   "outputs": [],
   "source": [
    "def error(m1,m2,c,x1,x2,y):\n",
    "    s=0\n",
    "    for i in range(len(x1)):\n",
    "        y1=m1*x1[i]+m2*x2[i]+c\n",
    "        s+=(y1-y[i])**2\n",
    "    return (1/len(x1))*s"
   ]
  },
  {
   "cell_type": "code",
   "execution_count": 30,
   "metadata": {},
   "outputs": [],
   "source": [
    "def GD(x1,x2,y):\n",
    "    E=[]\n",
    "    m1=0\n",
    "    m2=0\n",
    "    c=0\n",
    "    ep=1000\n",
    "    L=0.000001\n",
    "    for i in range(ep):\n",
    "        er=error(m1,m2,c,x1,x2,y)\n",
    "        E.append(er)\n",
    "        dm1=DM1(m1,m2,c,x1,x2,y)\n",
    "        dm2=DM2(m1,m2,c,x1,x2,y)\n",
    "        dc=DC(m1,m2,c,x1,x2,y)\n",
    "        m1-=L*dm1\n",
    "        m2-=L*dm2\n",
    "        c-=L*dc\n",
    "        #print(m,c)\n",
    "    return m1,m2,c,E"
   ]
  },
  {
   "cell_type": "code",
   "execution_count": 31,
   "metadata": {},
   "outputs": [
    {
     "name": "stdout",
     "output_type": "stream",
     "text": [
      "1210.8824778979388 895.4294675244121 274.9203600280801\n"
     ]
    }
   ],
   "source": [
    "m1,m2,c,e=GD(x1,x2,y)\n",
    "print(m1,m2,c)\n",
    "#print(e)"
   ]
  },
  {
   "cell_type": "code",
   "execution_count": 32,
   "metadata": {},
   "outputs": [
    {
     "name": "stdout",
     "output_type": "stream",
     "text": [
      "[5698.426728770721, 5698.426728770721, 5698.426728770721, 5698.426728770721, 5698.426728770721, 5698.426728770721, 5698.426728770721, 6909.309206668659, 6909.309206668659, 6909.309206668659, 6909.309206668659, 7804.738674193071, 7804.738674193071, 7804.738674193071, 9015.62115209101, 9015.62115209101, 9015.62115209101, 9015.62115209101, 9015.62115209101, 9015.62115209101, 9015.62115209101, 9015.62115209101, 9015.62115209101, 11121.933097513362, 11121.933097513362, 11121.933097513362, 11121.933097513362, 11121.933097513362, 10226.503629988949, 12017.362565037773, 12017.362565037773, 12017.362565037773, 12017.362565037773, 12912.792032562185, 12912.792032562185, 3592.1147833483697, 3592.1147833483697, 3592.1147833483697, 3592.1147833483697, 4802.997261246308, 5698.426728770721, 5698.426728770721, 5698.426728770721, 5698.426728770721, 5698.426728770721, 5698.426728770721, 5698.426728770721, 5698.426728770721, 7804.738674193071, 7804.738674193071, 7804.738674193071, 6909.309206668659, 6909.309206668659, 6909.309206668659, 6909.309206668659, 6909.309206668659, 9015.62115209101, 9015.62115209101, 9015.62115209101, 9015.62115209101, 9015.62115209101, 9015.62115209101, 7804.738674193071, 7804.738674193071, 6909.309206668659, 7804.738674193071, 7804.738674193071, 7804.738674193071, 8700.168141717482, 8700.168141717482, 8700.168141717482, 9015.62115209101, 9015.62115209101, 9015.62115209101, 9015.62115209101, 9015.62115209101, 9015.62115209101, 5698.426728770721, 5698.426728770721, 5698.426728770721, 5698.426728770721, 5698.426728770721, 5698.426728770721, 5698.426728770721, 5698.426728770721, 5698.426728770721, 6593.856196295133, 6593.856196295133, 6593.856196295133, 6593.856196295133, 6593.856196295133, 6593.856196295133, 6593.856196295133, 6593.856196295133, 5698.426728770721, 5698.426728770721, 5698.426728770721, 9015.62115209101, 9015.62115209101, 7804.738674193071, 7804.738674193071, 3592.1147833483697, 3592.1147833483697, 3592.1147833483697, 3592.1147833483697, 3592.1147833483697, 3592.1147833483697, 3592.1147833483697, 5698.426728770721, 5698.426728770721, 5698.426728770721, 5698.426728770721, 5698.426728770721, 6593.856196295133, 6593.856196295133, 6593.856196295133, 6593.856196295133, 6593.856196295133, 7804.738674193071, 7804.738674193071, 7804.738674193071, 7804.738674193071, 8700.168141717482, 8700.168141717482, 9911.050619615422, 9911.050619615422, 9911.050619615422, 9911.050619615422, 9911.050619615422, 10806.480087139835, 10806.480087139835, 10806.480087139835, 10806.480087139835, 10806.480087139835, 9911.050619615422, 9911.050619615422, 9911.050619615422, 9911.050619615422, 11121.933097513362, 11121.933097513362, 11121.933097513362, 11121.933097513362, 11121.933097513362, 11121.933097513362]\n"
     ]
    }
   ],
   "source": [
    "PR=[]\n",
    "for i in range(len(x1)):\n",
    "    y=m1*x1[i]+x2[i]*m2+c\n",
    "    PR.append(y)\n",
    "print(PR)"
   ]
  },
  {
   "cell_type": "code",
   "execution_count": 33,
   "metadata": {},
   "outputs": [
    {
     "data": {
      "image/png": "[encoded data removed]",
      "text/plain": [
       "<Figure size 432x288 with 1 Axes>"
      ]
     },
     "metadata": {
      "needs_background": "light"
     },
     "output_type": "display_data"
    }
   ],
   "source": [
    "plt.scatter(x1,PR, color = 'red')\n",
    "plt.show()"
   ]
  },
  {
   "cell_type": "code",
   "execution_count": 34,
   "metadata": {},
   "outputs": [
    {
     "name": "stdout",
     "output_type": "stream",
     "text": [
      "Enter Number of Bed Rooms :3\n",
      "Enter Number of Bath Rooms :2\n",
      "5698.426728770721\n"
     ]
    }
   ],
   "source": [
    "t1=eval(input(\"Enter Number of Bed Rooms :\"))\n",
    "t2=eval(input(\"Enter Number of Bath Rooms :\"))\n",
    "p = m1*t1+m2*t2+c\n",
    "print(p)"
   ]
  },
  {
   "cell_type": "code",
   "execution_count": null,
   "metadata": {},
   "outputs": [],
   "source": []
  }
 ],
 "metadata": {
  "kernelspec": {
   "display_name": "Python 3",
   "language": "python",
   "name": "python3"
  },
  "language_info": {
   "codemirror_mode": {
    "name": "ipython",
    "version": 3
   },
   "file_extension": ".py",
   "mimetype": "text/x-python",
   "name": "python",
   "nbconvert_exporter": "python",
   "pygments_lexer": "ipython3",
   "version": "3.7.1"
  }
 },
 "nbformat": 4,
 "nbformat_minor": 2
}

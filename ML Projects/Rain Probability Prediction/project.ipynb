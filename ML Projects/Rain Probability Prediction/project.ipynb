{
 "cells": [
  {
   "cell_type": "code",
   "execution_count": 1,
   "metadata": {},
   "outputs": [],
   "source": [
    "import numpy as np\n",
    "import pandas as pd\n",
    "import matplotlib.pyplot as plt"
   ]
  },
  {
   "cell_type": "code",
   "execution_count": 2,
   "metadata": {},
   "outputs": [
    {
     "data": {
      "text/html": [
       "<div>\n",
       "<style scoped>\n",
       "    .dataframe tbody tr th:only-of-type {\n",
       "        vertical-align: middle;\n",
       "    }\n",
       "\n",
       "    .dataframe tbody tr th {\n",
       "        vertical-align: top;\n",
       "    }\n",
       "\n",
       "    .dataframe thead th {\n",
       "        text-align: right;\n",
       "    }\n",
       "</style>\n",
       "<table border=\"1\" class=\"dataframe\">\n",
       "  <thead>\n",
       "    <tr style=\"text-align: right;\">\n",
       "      <th></th>\n",
       "      <th>Date</th>\n",
       "      <th>Avg_temp</th>\n",
       "      <th>Max_temp</th>\n",
       "      <th>Min_temp</th>\n",
       "      <th>Humidity</th>\n",
       "      <th>pressure</th>\n",
       "      <th>Rain</th>\n",
       "    </tr>\n",
       "  </thead>\n",
       "  <tbody>\n",
       "    <tr>\n",
       "      <th>0</th>\n",
       "      <td>01-01-11</td>\n",
       "      <td>19.6</td>\n",
       "      <td>25.2</td>\n",
       "      <td>14.4</td>\n",
       "      <td>77</td>\n",
       "      <td>1009.4</td>\n",
       "      <td>0</td>\n",
       "    </tr>\n",
       "    <tr>\n",
       "      <th>1</th>\n",
       "      <td>01-02-11</td>\n",
       "      <td>19.3</td>\n",
       "      <td>25.8</td>\n",
       "      <td>16.4</td>\n",
       "      <td>83</td>\n",
       "      <td>1011.6</td>\n",
       "      <td>0</td>\n",
       "    </tr>\n",
       "    <tr>\n",
       "      <th>2</th>\n",
       "      <td>01-03-11</td>\n",
       "      <td>17.3</td>\n",
       "      <td>24.2</td>\n",
       "      <td>14.2</td>\n",
       "      <td>90</td>\n",
       "      <td>1013.0</td>\n",
       "      <td>0</td>\n",
       "    </tr>\n",
       "    <tr>\n",
       "      <th>3</th>\n",
       "      <td>01-04-11</td>\n",
       "      <td>17.1</td>\n",
       "      <td>24.0</td>\n",
       "      <td>12.7</td>\n",
       "      <td>87</td>\n",
       "      <td>1012.1</td>\n",
       "      <td>0</td>\n",
       "    </tr>\n",
       "    <tr>\n",
       "      <th>4</th>\n",
       "      <td>01-05-11</td>\n",
       "      <td>18.1</td>\n",
       "      <td>26.2</td>\n",
       "      <td>13.8</td>\n",
       "      <td>87</td>\n",
       "      <td>1011.5</td>\n",
       "      <td>0</td>\n",
       "    </tr>\n",
       "  </tbody>\n",
       "</table>\n",
       "</div>"
      ],
      "text/plain": [
       "       Date  Avg_temp  Max_temp  Min_temp  Humidity  pressure  Rain\n",
       "0  01-01-11      19.6      25.2      14.4        77    1009.4     0\n",
       "1  01-02-11      19.3      25.8      16.4        83    1011.6     0\n",
       "2  01-03-11      17.3      24.2      14.2        90    1013.0     0\n",
       "3  01-04-11      17.1      24.0      12.7        87    1012.1     0\n",
       "4  01-05-11      18.1      26.2      13.8        87    1011.5     0"
      ]
     },
     "execution_count": 2,
     "metadata": {},
     "output_type": "execute_result"
    }
   ],
   "source": [
    "data=pd.read_csv('Data.csv', delimiter=',',names = ['Date','Avg_temp','Max_temp','Min_temp','Humidity', 'pressure', 'Rain'])\n",
    "data.head()\n"
   ]
  },
  {
   "cell_type": "code",
   "execution_count": 4,
   "metadata": {},
   "outputs": [],
   "source": [
    "x1 = data.Avg_temp\n",
    "x2 = data.Humidity\n",
    "x3 = data.pressure\n",
    "y = data.Rain"
   ]
  },
  {
   "cell_type": "code",
   "execution_count": 5,
   "metadata": {},
   "outputs": [
    {
     "data": {
      "image/png": "[encoded data removed]",
      "text/plain": [
       "<Figure size 432x288 with 1 Axes>"
      ]
     },
     "metadata": {
      "needs_background": "light"
     },
     "output_type": "display_data"
    }
   ],
   "source": [
    "plt.scatter(x1,y,c='r') \n",
    "plt.title('Temperature vs Rain')\n",
    "plt.xlabel('Temperature')\n",
    "plt.ylabel('Rain')\n",
    "plt.show()"
   ]
  },
  {
   "cell_type": "code",
   "execution_count": 6,
   "metadata": {},
   "outputs": [
    {
     "data": {
      "image/png": "[encoded data removed]",
      "text/plain": [
       "<Figure size 432x288 with 1 Axes>"
      ]
     },
     "metadata": {
      "needs_background": "light"
     },
     "output_type": "display_data"
    }
   ],
   "source": [
    "plt.scatter(x2,y,c='g') \n",
    "plt.title('Humidity vs Rain')\n",
    "plt.xlabel('Humidity')\n",
    "plt.ylabel('Rain')\n",
    "plt.show()"
   ]
  },
  {
   "cell_type": "code",
   "execution_count": 8,
   "metadata": {},
   "outputs": [
    {
     "data": {
      "image/png": "[encoded data removed]",
      "text/plain": [
       "<Figure size 432x288 with 1 Axes>"
      ]
     },
     "metadata": {
      "needs_background": "light"
     },
     "output_type": "display_data"
    }
   ],
   "source": [
    "plt.scatter(x3,y,c='b') \n",
    "plt.title('Pressure vs Rain')\n",
    "plt.xlabel('Pressure')\n",
    "plt.ylabel('Rain')\n",
    "plt.show()"
   ]
  },
  {
   "cell_type": "code",
   "execution_count": 10,
   "metadata": {},
   "outputs": [
    {
     "data": {
      "image/png": "[encoded data removed]",
      "text/plain": [
       "<Figure size 432x288 with 1 Axes>"
      ]
     },
     "metadata": {
      "needs_background": "light"
     },
     "output_type": "display_data"
    }
   ],
   "source": [
    "plt.scatter(x1,x2,c='r') \n",
    "plt.title('Temperature vs Humidity')\n",
    "plt.ylabel('Humidity')\n",
    "plt.xlabel('Temperature')\n",
    "plt.show()"
   ]
  },
  {
   "cell_type": "code",
   "execution_count": 11,
   "metadata": {},
   "outputs": [],
   "source": [
    "def u_dis(x1,x2,x3,tp,hm,pre):\n",
    "    ud={}\n",
    "    for i in range(len(x1)):\n",
    "        d = np.sqrt(((x1[i]-tp)**2)+((x2[i]-hm)**2)+((x3[i]-pre)**2))\n",
    "        ud[i]=d\n",
    "    return ud"
   ]
  },
  {
   "cell_type": "code",
   "execution_count": 12,
   "metadata": {},
   "outputs": [],
   "source": [
    "def predic(x1,x2,x3,tp,hm,pre):\n",
    "    ud = u_dis(x1,x2,x3,tp,hm,pre)\n",
    "    s_ud = sorted(ud.items(), key=lambda kv: kv[1])\n",
    "    k=5\n",
    "    #print(\"The Value Of K  is:\",k)\n",
    "    sk=[]\n",
    "    for i in range(k):\n",
    "        sk.append(s_ud[i][0])\n",
    "    #print(sk)\n",
    "    ry=[]\n",
    "    for i in range(k):\n",
    "        ry.append(y[sk[i]])\n",
    "    #print(ry)\n",
    "    rain=0\n",
    "    no_rain=0\n",
    "    for i in range(k):\n",
    "        if ry[i] == 0:\n",
    "            no_rain+=1\n",
    "        else:\n",
    "            rain+=1\n",
    "    p_rain = (rain)/(k)\n",
    "    print('Provability of rain :',int(p_rain*100),'%')"
   ]
  },
  {
   "cell_type": "code",
   "execution_count": 14,
   "metadata": {},
   "outputs": [
    {
     "name": "stdout",
     "output_type": "stream",
     "text": [
      "Enter Average Temperature  : 17\n",
      "Enter Humidity : 77\n",
      "Enter Pressure : 1009\n",
      "Provability of rain : 0 %\n"
     ]
    }
   ],
   "source": [
    "tp = eval(input('Enter Average Temperature  : '))\n",
    "hm = eval(input('Enter Humidity : '))\n",
    "pre = eval(input('Enter Pressure : '))\n",
    "predic(x1,x2,x3,tp,hm,pre)"
   ]
  },
  {
   "cell_type": "code",
   "execution_count": null,
   "metadata": {},
   "outputs": [],
   "source": []
  },
  {
   "cell_type": "code",
   "execution_count": null,
   "metadata": {},
   "outputs": [],
   "source": []
  }
 ],
 "metadata": {
  "kernelspec": {
   "display_name": "Python 3",
   "language": "python",
   "name": "python3"
  },
  "language_info": {
   "codemirror_mode": {
    "name": "ipython",
    "version": 3
   },
   "file_extension": ".py",
   "mimetype": "text/x-python",
   "name": "python",
   "nbconvert_exporter": "python",
   "pygments_lexer": "ipython3",
   "version": "3.7.1"
  }
 },
 "nbformat": 4,
 "nbformat_minor": 2
}
